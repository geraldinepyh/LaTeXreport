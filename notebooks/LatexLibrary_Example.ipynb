{
 "cells": [
  {
   "cell_type": "markdown",
   "metadata": {},
   "source": [
    "## Using the LatexLibrary \n",
    "This library creates some report structure and basic tex files for you to efficiently write a latex report."
   ]
  },
  {
   "cell_type": "markdown",
   "metadata": {},
   "source": [
    "### 0. Create some random data\n",
    "For this example only."
   ]
  },
  {
   "cell_type": "code",
   "execution_count": 8,
   "metadata": {},
   "outputs": [],
   "source": [
    "import pandas as pd\n",
    "import matplotlib.pyplot as plt\n",
    "import os"
   ]
  },
  {
   "cell_type": "code",
   "execution_count": 3,
   "metadata": {},
   "outputs": [],
   "source": [
    "df = pd.read_csv('https://raw.githubusercontent.com/mwaskom/seaborn-data/master/iris.csv')\n",
    "df1 = df.groupby('species').mean()\n",
    "df2 = df.groupby('species').min()\n",
    "df3 = df.groupby('species').max()\n",
    "\n",
    "plt.plot(df1.sepal_length)\n",
    "img1 = os.path.join(\"../data\", figure1.png\")\n",
    "if not os.path.exists(img1):\n",
    "    plt.savefig(img1)\n",
    "\n",
    "plt.plot(df2.sepal_length)\n",
    "img2 = os.path.join(\"../data\", figure2.png\")\n",
    "if not os.path.exists(img2):\n",
    "    plt.savefig(img2)"
   ]
  },
  {
   "cell_type": "code",
   "execution_count": 9,
   "metadata": {},
   "outputs": [],
   "source": [
    "os.chdir('../src')"
   ]
  },
  {
   "cell_type": "markdown",
   "metadata": {},
   "source": [
    "### 1. Initialize a Report Document\n",
    "Create a report, give it a name, a title. <br>\n",
    "Initialize to create the relevant directories. "
   ]
  },
  {
   "cell_type": "code",
   "execution_count": 11,
   "metadata": {},
   "outputs": [
    {
     "name": "stdout",
     "output_type": "stream",
     "text": [
      "../report/Top_Secret_Project already exists.\n",
      "../report/Top_Secret_Project/sections already exists.\n",
      "../report/Top_Secret_Project/tables already exists.\n",
      "../report/Top_Secret_Project/figures already exists.\n",
      "../report/Top_Secret_Project/mappingTables already exists.\n",
      "../report/Top_Secret_Project/output already exists.\n",
      ">> Top_Secret_Project report structure has been initialized.\n",
      "-----\n"
     ]
    }
   ],
   "source": [
    "from lib.LaTeXreport import reportWriter as rw\n",
    "\n",
    "rep = rw.Report('Top_Secret_Project')\n",
    "rep.title = \"My Top Secret Project Report\"\n",
    "rep.initialize(rep.fpath)"
   ]
  },
  {
   "cell_type": "markdown",
   "metadata": {},
   "source": [
    "## 2. Add Report Content\n",
    "- Use `saveFigure` to add Figures from a specified existing file path to the newly created figures directory. \n",
    "- Use `saveTable` to convert a pandas dataframe into a TEX file in the newly created tables directory. \n",
    "\n",
    "Optional: \n",
    "* `caption` for both tables and figures to be appended at the bottom\n",
    "* `option` for figures to scale, adjust width/height.\n",
    "* `override` for whether you want to re-generate the .png/.tex files. "
   ]
  },
  {
   "cell_type": "code",
   "execution_count": 12,
   "metadata": {},
   "outputs": [
    {
     "name": "stdout",
     "output_type": "stream",
     "text": [
      "Table1 already exists in ../report/Top_Secret_Project/tables/Table1.tex. No override instruction was given.\n",
      "Table2 already exists in ../report/Top_Secret_Project/tables/Table2.tex. No override instruction was given.\n"
     ]
    }
   ],
   "source": [
    "# Add figures\n",
    "rep.saveFigure('Figure1', img1, caption='This is the first figure.', option='scale=0.6')\n",
    "rep.saveFigure('Figure2', img2, caption='This is the second figure.', option='scale=0.8')\n",
    "\n",
    "# Add tables\n",
    "rep.saveTable('Table1', df1, caption='Table of results 1.')\n",
    "rep.saveTable('Table2', df2, caption='Table of past results.', override=False)\n",
    "rep.saveTable('Table3', df3, caption='Table of new results.', override=True)"
   ]
  },
  {
   "cell_type": "markdown",
   "metadata": {},
   "source": [
    "## 3. Add report Sections\n",
    "For each section you add and name, a `.tex` file will be created in the newly created sections directory. You can optionally specify the `level` of the section, to create subsections or even subsubsections. "
   ]
  },
  {
   "cell_type": "code",
   "execution_count": 13,
   "metadata": {},
   "outputs": [
    {
     "name": "stdout",
     "output_type": "stream",
     "text": [
      "../report/Top_Secret_Project/sections/Introduction.tex already exists. Did not override.\n",
      "../report/Top_Secret_Project/sections/Methodology.tex already exists. Did not override.\n",
      "../report/Top_Secret_Project/sections/Data_Collection.tex already exists. Did not override.\n",
      "../report/Top_Secret_Project/sections/Models.tex already exists. Did not override.\n",
      "../report/Top_Secret_Project/sections/Results.tex already exists. Did not override.\n",
      "../report/Top_Secret_Project/sections/Discussion.tex already exists. Did not override.\n",
      "../report/Top_Secret_Project/sections/Conclusion.tex already exists. Did not override.\n"
     ]
    }
   ],
   "source": [
    "# Add sections\n",
    "rep.addSection('Introduction')\n",
    "rep.addSection('Methodology')\n",
    "rep.addSection('Data Collection', level=2)\n",
    "rep.addSection('Models', level=2)\n",
    "rep.addSection('Results')\n",
    "rep.addSection('Discussion')\n",
    "rep.addSection('Conclusion')"
   ]
  },
  {
   "cell_type": "markdown",
   "metadata": {},
   "source": [
    "## 4. Generate the Report\n",
    "Specify whether you want to create a tex document only, otherwise a PDF document will also be made.\n",
    "\n",
    "Figures and Tables will be appended to the bottom of the report, you have to move them to the correct sections/places yourself."
   ]
  },
  {
   "cell_type": "code",
   "execution_count": 14,
   "metadata": {
    "scrolled": true
   },
   "outputs": [
    {
     "name": "stdout",
     "output_type": "stream",
     "text": [
      "Added Figure1.png to the tex doc obj\n",
      "Added Figure2.png to the tex doc obj\n",
      "Added Table2.tex to the tex doc obj.\n",
      "Added Table1.tex to the tex doc obj.\n",
      "Added Table3.tex to the tex doc obj.\n"
     ]
    }
   ],
   "source": [
    "# Generate PDF/Tex\n",
    "rep.makeReport(tex_only=True)"
   ]
  },
  {
   "cell_type": "markdown",
   "metadata": {},
   "source": [
    "## 5. Write the Report\n",
    "Now you can edit the report to your heart's content! \n",
    "\n",
    "- Add text to the sections' tex files\n",
    "- Configure the figures/tables that are already created\n",
    "- Add more images/tables/sections\n",
    "- If you have mapping tables, you can add them to the mappingTables directory and they will be added to the Appendix. \n",
    "\n",
    "just run `makeReport()` whenever you want to see the finished product again."
   ]
  },
  {
   "cell_type": "code",
   "execution_count": null,
   "metadata": {},
   "outputs": [],
   "source": []
  }
 ],
 "metadata": {
  "kernelspec": {
   "display_name": "Python 3",
   "language": "python",
   "name": "python3"
  },
  "language_info": {
   "codemirror_mode": {
    "name": "ipython",
    "version": 3
   },
   "file_extension": ".py",
   "mimetype": "text/x-python",
   "name": "python",
   "nbconvert_exporter": "python",
   "pygments_lexer": "ipython3",
   "version": "3.6.8"
  }
 },
 "nbformat": 4,
 "nbformat_minor": 2
}
