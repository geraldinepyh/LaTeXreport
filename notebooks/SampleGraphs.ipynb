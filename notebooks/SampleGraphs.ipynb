{
 "cells": [
  {
   "cell_type": "code",
   "execution_count": 120,
   "metadata": {},
   "outputs": [],
   "source": [
    "import pickle\n",
    "import pandas as pd\n",
    "import matplotlib.pyplot as plt\n",
    "import os\n",
    "import shutil\n",
    "import jsonref\n",
    "\n",
    "import pylatex\n",
    "# import subprocess # to download arxiv.sty from GH\n",
    "from pylatex import Document, Section, Subsection, Tabular,  Tabularx, LongTabularx, MultiColumn, MultiRow, NoEscape, Figure, Package, Command, LineBreak, NewLine\n",
    "from pylatex.utils import bold"
   ]
  },
  {
   "cell_type": "markdown",
   "metadata": {},
   "source": [
    "## Building Pylatex Library\n",
    "\n",
    "Two ways to build it:<br>\n",
    "(A) Create an instance of `Document()` and use that as my `self.doc`\n",
    "\n",
    "(B) Inherit from the `Document()` class [(Ref)](https://jeltef.github.io/PyLaTeX/current/pylatex/document.html) and add the content in latex style directly.\n",
    "[An Example Here.](https://jeltef.github.io/PyLaTeX/current/examples/basic_inheritance.html)"
   ]
  },
  {
   "cell_type": "code",
   "execution_count": 82,
   "metadata": {},
   "outputs": [
    {
     "name": "stdout",
     "output_type": "stream",
     "text": [
      "Created directory at ../report/sections\n"
     ]
    }
   ],
   "source": [
    "s1 = mySection(\"Section2\", \"Methods\", 2)\n",
    "s1.initialize(s1.fpath)\n",
    "s1.content = 'These are some of the underhanded methods we used.' \n",
    "    # or open up the file and add to it directly\n",
    "s1.makeSectionTex()"
   ]
  },
  {
   "cell_type": "markdown",
   "metadata": {},
   "source": [
    "# Library"
   ]
  },
  {
   "cell_type": "code",
   "execution_count": 270,
   "metadata": {},
   "outputs": [],
   "source": [
    "class Report():\n",
    "    def __init__(self, name):\n",
    "        self.name = name\n",
    "        self.title = \"\"\n",
    "        self.fpath = os.path.join(\"../report\", self.name)\n",
    "        self.outputPath = os.path.join(self.fpath, \"output\")\n",
    "        self.doc = Document()\n",
    "        self.objects = [\"sections\", \"tables\", \"figures\", \"mappingTables\"]\n",
    "        return \n",
    "    \n",
    "    def makeDirs(self, dirPath):\n",
    "        # Helper function to make Directories\n",
    "        if not os.path.exists(dirPath):\n",
    "            os.makedirs(dirPath)\n",
    "            print(\"Created directory at\", dirPath)\n",
    "        else: \n",
    "            print(dirPath, \"already exists.\")\n",
    "        return\n",
    "        \n",
    "    def initialize(self, fpath):\n",
    "        ## Initialize a report project\n",
    "        # Make Directory\n",
    "        self.makeDirs(fpath)\n",
    "        \n",
    "        # Make sub-directories\n",
    "        subs = self.objects + [\"output\"] \n",
    "        for sub in subs:\n",
    "            self.makeDirs(os.path.join(fpath,sub))\n",
    "            \n",
    "        # Add packages and preamble to Document. \n",
    "        pkgs_to_add = [ \"booktabs\",\"hyperref\",\"lipsum\",\"microtype\", \\\n",
    "                        \"nicefrac\",\"url\",\"bookmark\",\"tabularx\", \"svg\"]\n",
    "        pream_to_add = {\n",
    "                        \"title\"  : f\"{self.name}\",\n",
    "                        \"author\" : \"Insert your name here\",\n",
    "                        \"date\"   : \"Insert Date here\"\n",
    "        }\n",
    "        for pkg in pkgs_to_add:\n",
    "            self.doc.packages.append(Package(pkg))\n",
    "        for pa in pream_to_add:\n",
    "            self.doc.preamble.append(Command(pa, pream_to_add[pa]))\n",
    "        self.doc.append(NoEscape(r\"\\maketitle\"))\n",
    "       \n",
    "        return \n",
    "\n",
    "    def use_arxiv(self):\n",
    "        # Add arxiv.sty file from arxiv-style repo on GH if doesn\"t exist\n",
    "        args = [\"git\", \"clone\", \"--depth=1\", \"https://github.com/kourgeorge/arxiv-style/blob/master/arxiv.sty\"]\n",
    "        res = subprocess.Popen(args, stdout=subprocess.PIPE)\n",
    "        self.doc.packages.append(Package(\"arxiv\"))\n",
    "        return\n",
    "   \n",
    "    ########################### ADDING TABLES ########################\n",
    "    \n",
    "    def saveTable(self, name, data, path=\"../tables/\", caption=\"\", override=False):\n",
    "        \"\"\"\n",
    "        Given a pandas dataframe, save to this report's tables/path as a tex file\n",
    "            if it doesn't yet exist. (Option to override even if it exists.)\n",
    "        \"\"\"\n",
    "        \n",
    "        if not os.path.exists(os.path.join(path,name+\".tex\") or override=True:\n",
    "            # if data provided, save data to path as Tex\n",
    "            if isinstance(data, list): \n",
    "                dataOut = pd.concat(data, axis=1, sort=False)\n",
    "                dataOut.fillna(0, inplace=True)\n",
    "            else: \n",
    "                dataOut = data.copy()\n",
    "\n",
    "            tbl_width = len(dataOut)\n",
    "            with open(self.tables[name][\"path\"],\"w\") as tf:\n",
    "                if tbl_width > 10:\n",
    "                    tf.write(r\"\\setlength{\\tabcolsep}{2pt}\")\n",
    "                    tf.write(r\"\\resizebox{0.95\\textwidth}{!}{\")\n",
    "\n",
    "                tf.write(dataOut.to_latex(multirow=True, float_format=\"%0.0f\")) \n",
    "                if caption != \"\": tf.write(r\"\\caption{\" + caption + r\"}\")\n",
    "                \n",
    "                if tbl_width > 10:\n",
    "                    tf.write(r\"}\")\n",
    "\n",
    "        else: \n",
    "            if os.path.exists(os.path.join(path,name)):\n",
    "                print(\"Error: tex file already exists in path.\")\n",
    "        return\n",
    "\n",
    "    def addTbl2Doc(self, tbl):\n",
    "        \"\"\"\n",
    "        Add a table by name to the latex document if it exists in the folder.\n",
    "        \"\"\"\n",
    "        tblFile = os.path.join(self.fpath, \"tables\", tbl + \".tex\")\n",
    "        if not os.path.exists(tblFile):\n",
    "            print(f\"Error: {tblFile} does not exist. Please save first and try again.\")\n",
    "        else:\n",
    "            tblInputPath = os.path.join(\"../tables\", tbl + \".tex\") #self.tables[tbl][\"inpPath\"]\n",
    "            self.doc.append(NoEscape(r\"\\input{\" + tblInputPath + r\"}\")) \n",
    "            print(f\"Added {tbl} to the tex doc obj.\")\n",
    "        return\n",
    "    \n",
    "    \n",
    "    ########################## ADDING FIGURES ###########################\n",
    "    \n",
    "    \n",
    "    def saveFigure(self, name, inPath=\"\", savePath=\"../figures/\", caption=\"\", option=\"\", override=False):\n",
    "        \"\"\"\n",
    "        Given an image file path, save that image to this report's figures/path \n",
    "            if it doesn't exist yet. (Option to override even if it exists.)\n",
    "        \"\"\"\n",
    "        outFile = os.path.join(savePath, name + \".png\")\n",
    "        if (not os.path.exists(outFile) and inPath != \"\") or override=True:\n",
    "            print(f\"Error: {name}.png file does not exist in {savePath}. \\\n",
    "                  Saving now.\")\n",
    "            shutil.copyfile(inPath, outFile)\n",
    "        elif inPath == \"\":\n",
    "            print('No input path provided. Image not found.')\n",
    "        elif os.path.exists(outFile):\n",
    "            print(f\"{outFile} already exists in {savePath}.\")\n",
    "\n",
    "        return\n",
    "    \n",
    "    def addFig2Doc(self, fig):\n",
    "        \"\"\"fig = dict? or name\"\"\"\n",
    "        if not os.path.exists(self.figures[fig][\"path\"]):\n",
    "            print(\"Error: File does not exist!\")\n",
    "        else:\n",
    "            figRefPath = self.figures[fig][\"inpPath\"]\n",
    "\n",
    "            with self.doc.create(Figure(position=\"!ht\")) as fig_:\n",
    "                ## To adjust image size given specified options: \n",
    "                if \"option\" in self.figures[fig]:\n",
    "                    fig_.append(NoEscape(r\"\\centering\"))\n",
    "                    fig_.append(Command(\"includegraphics\", \n",
    "                                    options=(self.figures[fig][\"option\"]), \n",
    "                                    arguments=figRefPath))\n",
    "                else:\n",
    "                    fig_.add_image(figRefPath) # default uses 0.8\\textwidth \n",
    "                if \"caption\" in self.figures[fig]:\n",
    "                    fig_.add_caption(self.figures[fig][\"caption\"])\n",
    "                print(f\"Added {fig} to the tex doc obj\")\n",
    "        return\n",
    "\n",
    "    \n",
    "    ######################## ADDING STUFF ############################\n",
    "    \n",
    "    \n",
    "    def addText2Doc(self, text):\n",
    "        \"\"\"Add a raw string of text to the Document.\"\"\"\n",
    "        self.doc.append(NoEscape(text))\n",
    "        return \n",
    "\n",
    "    def sectionLevel(self, level, title):\n",
    "        if level == 1:\n",
    "            return Section(title)\n",
    "        elif level == 2:\n",
    "            return Subsection(title)\n",
    "        elif level == 3:\n",
    "            return Subsubsection(title)\n",
    "        else:\n",
    "            print(\"Error: invalid section level given.\")\n",
    "        return\n",
    "    \n",
    "    def addSection(self, name, level=1, override=False):\n",
    "        sect = self.sectionLevel(self.level, name)\n",
    "        sectPath = os.path.join(self.fpath, \"sections\",  name+\".tex\")\n",
    "        if not os.path.exists(sectPath) or override=True:\n",
    "            with open(sectPath, \"w\") as tf:\n",
    "                tf.write(sect.dumps())\n",
    "            print(f\"Created section {name} at {sectPath}\")\n",
    "        else:\n",
    "            print(f\"{secP}\")\n",
    "        return\n",
    "    \n",
    "    def addSections(self, name, level=1):\n",
    "        \"\"\"Adds a section for each TEX file that exist in the sectPath\"\"\"\n",
    "        \n",
    "        sectPath = os.path.join(self.fpath, \"sections\")\n",
    "        \n",
    "        for sect in os.listdir(sectPath): \n",
    "            # add it to the main doc.\n",
    "            sectFile = os.path.join(\"../sections\", sect)\n",
    "            self.addText2Doc(r\"\\input{\" + sectFile + r\"}\")\n",
    "            \n",
    "            # add it to the list of existing sections.\n",
    "            self.sections.append(sect)\n",
    "            print(f\">> Added Section {sect}\")\n",
    "            \n",
    "        print(f\"\\nCurrent list of sections:\\n {self.sections}\")\n",
    "        return \n",
    "    \n",
    "    def addAppendix(self):\n",
    "        appenPath = os.path.join(self.fpath, \"mappingTables\")\n",
    "\n",
    "        self.addText2Doc(r\"\\clearpage\") # page break\n",
    "        for apdx in os.listdir(appenPath): \n",
    "            mappingTable = pd.read_csv(os.path.join(appenPath, apdx), header=None)\n",
    "            colNum = len(mappingTable.columns)\n",
    "\n",
    "            if colNum == 2:\n",
    "                hdr_format = \"l X[l]\"\n",
    "                col_names = [\"Original\", \"Category\"]\n",
    "                mappingTable.columns = col_names\n",
    "                mappingTable = mappingTable.groupby(\"Category\")[\"Original\"].apply(list).reset_index()\n",
    "                tbl_type = LongTabularx(hdr_format, width_argument=NoEscape(r\"0.9\\textwidth\"))\n",
    "\n",
    "            elif colNum == 3:\n",
    "                hdr_format = \"l l l\"\n",
    "                col_names = [\"Lower\",\"Upper\",\"Category\"]\n",
    "                tbl_type = Tabular(hdr_format)\n",
    "\n",
    "            self.doc.append(bold(NoEscape(r\"{} Mapping Table\\\\\".format(apdx.replace(\"_\", \" \")))))\n",
    "\n",
    "            with self.doc.create(tbl_type) as appendix:\n",
    "                appendix.add_hline()\n",
    "                appendix.add_row(col_names) \n",
    "                appendix.add_hline()\n",
    "\n",
    "                if colNum == 2: \n",
    "                    appendix.end_table_header()\n",
    "                    appendix.add_hline()\n",
    "                    appendix.add_row((MultiColumn(colNum, align=\"r\",\n",
    "                                                    data=\"Continued on Next Page\"),))\n",
    "                    appendix.end_table_footer()\n",
    "                    appendix.add_hline()\n",
    "                    appendix.add_row((MultiColumn(colNum, align=\"r\",\n",
    "                                        data=\"Not Continued on Next Page\"),))\n",
    "                    appendix.end_table_last_footer()\n",
    "\n",
    "                # Iterate through each row in the csv. \n",
    "                for i, rw in mappingTable.iterrows():\n",
    "                    row = [rw[j] for j in range(colNum)]\n",
    "                    appendix.add_row(row)\n",
    "\n",
    "                appendix.add_hline()\n",
    "            self.doc.append(LineBreak())\n",
    "            self.doc.append(LineBreak())\n",
    "            self.doc.append(LineBreak())\n",
    "        \n",
    "        return\n",
    "    \n",
    "    \n",
    "    ########################## MAKING THE REPORT ##########################\n",
    "        \n",
    "        \n",
    "    def makeReport(self, reportName = \"report\", tex_only=False):\n",
    "        \"\"\"Automated generation of report structure\"\"\"\n",
    "        ## Premable/Packages are added when Report() is initialized.\n",
    "        \n",
    "        ## insert report content from dictionary\n",
    "        \n",
    "        # For section inside the folder, add sections\n",
    "        sectPath = os.path.join(self.fpath, \"sections\")\n",
    "        for sect in os.listdir(sectPath): \n",
    "            sectFile = os.path.join(\"../sections\", sect)\n",
    "            self.addText2Doc(r\"\\input{\" + sectFile + r\"}\")\n",
    "            \n",
    "        # For figures inside the folder, add figures\n",
    "        figPath = os.path.join(self.fpath, \"figures\")\n",
    "        self.doc.create(Section(\"Figures\"))\n",
    "        for fig in os.listdir(figPath):\n",
    "            if fig in self.figures: self.addFig2Doc(fig)\n",
    "            \n",
    "        # For tables inside the folder, add tables\n",
    "        tblPath = os.path.join(self.fpath, \"tables\")\n",
    "        self.doc.create(Section(\"Tables\"))\n",
    "        for tbl in os.listdir(tblPath):\n",
    "            if tbl in self.tables: self.addTbl2Doc(tbl)\n",
    "\n",
    "        # For apx inside the folder, add apx\n",
    "        self.addAppendix()\n",
    "        \n",
    "        ## generate tex/pdf\n",
    "        if tex_only:\n",
    "            self.doc.generate_tex(os.path.join(self.outputPath, self.name))\n",
    "        else:\n",
    "            self.doc.generate_pdf(os.path.join(self.outputPath, self.name), \n",
    "                                  clean_tex=False)\n",
    "\n",
    "        return \n"
   ]
  },
  {
   "cell_type": "markdown",
   "metadata": {},
   "source": [
    "## Using the LatexLibrary \n",
    "### 1. Initialize a Report Document\n",
    "Create a report, give it a name, a title. <br>\n",
    "Initialize to create the relevant directories. "
   ]
  },
  {
   "cell_type": "code",
   "execution_count": 196,
   "metadata": {},
   "outputs": [
    {
     "name": "stdout",
     "output_type": "stream",
     "text": [
      "../report/Test1 already exists.\n",
      "../report/Test1/pdf already exists.\n",
      "../report/Test1/sections already exists.\n",
      "../report/Test1/tables already exists.\n",
      "../report/Test1/figures already exists.\n",
      "../report/Test1/mappingTables already exists.\n"
     ]
    }
   ],
   "source": [
    "doc1 = myReport(\"Test1\")\n",
    "doc1.title = \"My Report\"\n",
    "doc1.initialize(doc1.fpath)"
   ]
  },
  {
   "cell_type": "markdown",
   "metadata": {},
   "source": [
    "### 2. Add Report Content\n",
    "Either:\n",
    "1. Add data to the respective folders, run `makeReport()` to generate instantly, "
   ]
  },
  {
   "cell_type": "code",
   "execution_count": 161,
   "metadata": {
    "scrolled": true
   },
   "outputs": [
    {
     "name": "stdout",
     "output_type": "stream",
     "text": [
      ">> Added Section section1.tex\n",
      "\n",
      "Current list of sections:\n",
      " ['section1.tex']\n",
      "Added  out30.png\n",
      "Added  out20.png\n",
      "Added  out10.png\n",
      "\n",
      "Current list of figures:\n",
      " dict_keys(['out30.png', 'out20.png', 'out10.png'])\n"
     ]
    }
   ],
   "source": [
    "## Option 1\n",
    "# manually add data to the initialized folders. then:\n",
    "# add names and paths to the dictionary? \n",
    "doc1.makeReport()"
   ]
  },
  {
   "cell_type": "markdown",
   "metadata": {},
   "source": [
    "or **Option 2**\n",
    "2. Use the `addX()` functions to add to the `myReport()` instance you created. then run `generate_pdf()`"
   ]
  },
  {
   "cell_type": "code",
   "execution_count": 245,
   "metadata": {},
   "outputs": [
    {
     "name": "stdout",
     "output_type": "stream",
     "text": [
      "../report/Test2 already exists.\n",
      "../report/Test2/output already exists.\n",
      "../report/Test2/sections already exists.\n",
      "../report/Test2/tables already exists.\n",
      "../report/Test2/figures already exists.\n",
      "../report/Test2/mappingTables already exists.\n"
     ]
    }
   ],
   "source": [
    "doc2 = myReport(\"Test2\")\n",
    "doc2.title = \"Latex Report Generation: Option 2 Example\"\n",
    "doc2.initialize(doc2.fpath)\n",
    "doc2.setUpReport()"
   ]
  },
  {
   "cell_type": "code",
   "execution_count": 234,
   "metadata": {},
   "outputs": [
    {
     "data": {
      "image/png": "[encoded data removed]",
      "text/plain": [
       "<Figure size 432x288 with 1 Axes>"
      ]
     },
     "metadata": {
      "needs_background": "light"
     },
     "output_type": "display_data"
    }
   ],
   "source": [
    "# some sample data\n",
    "table2_df = pd.read_csv('https://raw.githubusercontent.com/mwaskom/seaborn-data/master/iris.csv')\n",
    "plt.plot(table2_df.sepal_length)\n",
    "\n",
    "imagePath = os.path.join(doc2.fpath, \"figures\", \"figure1.png\")\n",
    "if not os.path.exists(imagePath):\n",
    "    plt.savefig(imagePath)"
   ]
  },
  {
   "cell_type": "code",
   "execution_count": 240,
   "metadata": {},
   "outputs": [],
   "source": [
    "#Adding Text\n",
    "doc2.doc.append(f'This report is titled: {doc2.title}')\n",
    "doc2.doc.append(LineBreak())\n",
    "doc2.addText2Doc(r'This is how you add some random text about the report.\\\\')\n",
    "\n",
    "#Adding a pandas DF (meanwhile saving it to folder)\n",
    "doc2.saveTable(name='Table 2',\n",
    "                 data=table2_df, #'./tables/table2.pkl',\n",
    "                 path=os.path.join(doc2.fpath, 'tables/table2.tex'),\n",
    "                 caption='This is a wide table of numbers.')\n",
    "\n",
    "#Adding a figure (meanwhile saving it to folder)\n",
    "doc2.saveFigure(name='Figure 1', \n",
    "                path='./figures/figure1.png',\n",
    "                caption='Some descriptive caption',\n",
    "                option='scale=0.9')\n",
    "\n",
    "# #Adds all saved figures in the doc2.figures dictionary.\n",
    "# doc2.addFigures()\n",
    "# doc2.addTables()\n",
    "doc2.addFig2Doc('Figure 1')\n",
    "doc2.addTbl2Doc('Table 2')"
   ]
  },
  {
   "cell_type": "code",
   "execution_count": 243,
   "metadata": {},
   "outputs": [
    {
     "name": "stdout",
     "output_type": "stream",
     "text": [
      "Added Figure 1 to the tex doc obj\n",
      "Added Table 2 to the tex doc obj.\n"
     ]
    }
   ],
   "source": [
    "doc2.doc.generate_tex(os.path.join(doc2.outputPath,doc2.name))"
   ]
  },
  {
   "cell_type": "markdown",
   "metadata": {},
   "source": [
    "### Testing"
   ]
  },
  {
   "cell_type": "code",
   "execution_count": 271,
   "metadata": {},
   "outputs": [
    {
     "name": "stdout",
     "output_type": "stream",
     "text": [
      "Created directory at ../report/Test3\n",
      "Created directory at ../report/Test3/output\n",
      "Created directory at ../report/Test3/sections\n",
      "Created directory at ../report/Test3/tables\n",
      "Created directory at ../report/Test3/figures\n",
      "Created directory at ../report/Test3/mappingTables\n"
     ]
    }
   ],
   "source": [
    "doc3 = myReport(\"Test3\")\n",
    "doc3.title = \"Latex Report Generation\"\n",
    "doc3.initialize(doc3.fpath)"
   ]
  },
  {
   "cell_type": "code",
   "execution_count": 261,
   "metadata": {},
   "outputs": [
    {
     "name": "stdout",
     "output_type": "stream",
     "text": [
      "Error: png file does not exist in path. Please save first.\n"
     ]
    }
   ],
   "source": [
    "doc3.saveFigure(name='Figure 1', \n",
    "                path=os.path.join(doc3.fpath, 'figures/figure1.png'),\n",
    "                caption='Some descriptive caption',\n",
    "                option='scale=0.9')"
   ]
  },
  {
   "cell_type": "code",
   "execution_count": 253,
   "metadata": {},
   "outputs": [
    {
     "data": {
      "image/png": "[encoded data removed]",
      "text/plain": [
       "<Figure size 432x288 with 1 Axes>"
      ]
     },
     "metadata": {
      "needs_background": "light"
     },
     "output_type": "display_data"
    }
   ],
   "source": [
    "plt.plot(table2_df.sepal_length)\n",
    "plt.savefig(os.path.join(doc3.fpath, 'figures/figure1.png'))"
   ]
  },
  {
   "cell_type": "code",
   "execution_count": 267,
   "metadata": {},
   "outputs": [],
   "source": [
    "doc3.saveFigure(name='Figure 1', \n",
    "                path=os.path.join(doc3.fpath, 'figures/figure1.png'),\n",
    "                caption='Some descriptive caption',\n",
    "                option='scale=0.9')"
   ]
  },
  {
   "cell_type": "code",
   "execution_count": 273,
   "metadata": {},
   "outputs": [],
   "source": [
    "doc3.saveTable(name='Table 2',\n",
    "             data=table2_df, \n",
    "             path=os.path.join(doc3.fpath, 'tables/table2.tex'),\n",
    "             caption='This is a table of numbers.')"
   ]
  },
  {
   "cell_type": "code",
   "execution_count": null,
   "metadata": {},
   "outputs": [],
   "source": [
    "# Add Sections\n",
    "doc3.addSection('Introduction')\n",
    "doc3.addSection('Methodology')\n",
    "doc3.addSection('Data Collection', level=2)\n",
    "doc3.addSection('Models', level=2)\n",
    "doc3.addSection('Results')\n",
    "doc3.addSection('Discussion')\n",
    "doc3.addSection('Conclusion')\n"
   ]
  },
  {
   "cell_type": "code",
   "execution_count": 278,
   "metadata": {},
   "outputs": [
    {
     "name": "stdout",
     "output_type": "stream",
     "text": [
      "Added Table 2 to the tex doc obj.\n",
      "This is pdfTeX, Version 3.14159265-2.6-1.40.18 (TeX Live 2017/Debian) (preloaded format=pdflatex)\n",
      " restricted \\write18 enabled.\n",
      "entering extended mode\n",
      "(./Test3.tex\n",
      "LaTeX2e <2017-04-15>\n",
      "Babel <3.18> and hyphenation patterns for 3 language(s) loaded.\n",
      "(/usr/share/texlive/texmf-dist/tex/latex/base/article.cls\n",
      "Document Class: article 2014/09/29 v1.4h Standard LaTeX document class\n",
      "(/usr/share/texlive/texmf-dist/tex/latex/base/size10.clo))\n",
      "(/usr/share/texlive/texmf-dist/tex/latex/base/fontenc.sty\n",
      "(/usr/share/texlive/texmf-dist/tex/latex/base/t1enc.def))\n",
      "(/usr/share/texlive/texmf-dist/tex/latex/base/inputenc.sty\n",
      "(/usr/share/texlive/texmf-dist/tex/latex/base/utf8.def\n",
      "(/usr/share/texlive/texmf-dist/tex/latex/base/t1enc.dfu)\n",
      "(/usr/share/texlive/texmf-dist/tex/latex/base/ot1enc.dfu)\n",
      "(/usr/share/texlive/texmf-dist/tex/latex/base/omsenc.dfu)))\n",
      "(/usr/share/texmf/tex/latex/lm/lmodern.sty)\n",
      "(/usr/share/texlive/texmf-dist/tex/latex/base/textcomp.sty\n",
      "(/usr/share/texlive/texmf-dist/tex/latex/base/ts1enc.def\n",
      "(/usr/share/texlive/texmf-dist/tex/latex/base/ts1enc.dfu)))\n",
      "(/usr/share/texlive/texmf-dist/tex/latex/lastpage/lastpage.sty)\n",
      "(/usr/share/texlive/texmf-dist/tex/latex/booktabs/booktabs.sty)\n",
      "(/usr/share/texlive/texmf-dist/tex/latex/hyperref/hyperref.sty\n",
      "(/usr/share/texlive/texmf-dist/tex/generic/oberdiek/hobsub-hyperref.sty\n",
      "(/usr/share/texlive/texmf-dist/tex/generic/oberdiek/hobsub-generic.sty))\n",
      "(/usr/share/texlive/texmf-dist/tex/latex/graphics/keyval.sty)\n",
      "(/usr/share/texlive/texmf-dist/tex/generic/ifxetex/ifxetex.sty)\n",
      "(/usr/share/texlive/texmf-dist/tex/latex/oberdiek/auxhook.sty)\n",
      "(/usr/share/texlive/texmf-dist/tex/latex/oberdiek/kvoptions.sty)\n",
      "(/usr/share/texlive/texmf-dist/tex/latex/hyperref/pd1enc.def)\n",
      "(/usr/share/texlive/texmf-dist/tex/latex/latexconfig/hyperref.cfg)\n",
      "(/usr/share/texlive/texmf-dist/tex/latex/url/url.sty))\n",
      "(/usr/share/texlive/texmf-dist/tex/latex/hyperref/hpdftex.def\n",
      "(/usr/share/texlive/texmf-dist/tex/latex/oberdiek/rerunfilecheck.sty))\n",
      "(/usr/share/texlive/texmf-dist/tex/latex/lipsum/lipsum.sty)\n",
      "(/usr/share/texlive/texmf-dist/tex/latex/microtype/microtype.sty\n",
      "(/usr/share/texlive/texmf-dist/tex/latex/microtype/microtype-pdftex.def)\n",
      "(/usr/share/texlive/texmf-dist/tex/latex/microtype/microtype.cfg))\n",
      "(/usr/share/texlive/texmf-dist/tex/latex/units/nicefrac.sty\n",
      "(/usr/share/texlive/texmf-dist/tex/latex/base/ifthen.sty))\n",
      "(/usr/share/texlive/texmf-dist/tex/latex/oberdiek/bookmark.sty\n",
      "(/usr/share/texlive/texmf-dist/tex/latex/oberdiek/bkm-pdftex.def))\n",
      "(/usr/share/texlive/texmf-dist/tex/latex/tools/tabularx.sty\n",
      "(/usr/share/texlive/texmf-dist/tex/latex/tools/array.sty))\n",
      "(/usr/share/texlive/texmf-dist/tex/latex/svg/svg.sty\n",
      "(/usr/share/texlive/texmf-dist/tex/latex/koma-script/scrbase.sty\n",
      "(/usr/share/texlive/texmf-dist/tex/latex/koma-script/scrlfile.sty))\n",
      "(/usr/share/texlive/texmf-dist/tex/latex/tools/shellesc.sty)\n",
      "(/usr/share/texlive/texmf-dist/tex/latex/graphics/graphicx.sty\n",
      "(/usr/share/texlive/texmf-dist/tex/latex/graphics/graphics.sty\n",
      "(/usr/share/texlive/texmf-dist/tex/latex/graphics/trig.sty)\n",
      "(/usr/share/texlive/texmf-dist/tex/latex/graphics-cfg/graphics.cfg)\n",
      "(/usr/share/texlive/texmf-dist/tex/latex/graphics-def/pdftex.def))))\n",
      "(/usr/share/texlive/texmf-dist/tex/latex/xcolor/xcolor.sty\n",
      "(/usr/share/texlive/texmf-dist/tex/latex/graphics-cfg/color.cfg))\n",
      "(/usr/share/texlive/texmf-dist/tex/latex/oberdiek/transparent.sty)\n",
      "No file Test3.aux.\n",
      "(/usr/share/texlive/texmf-dist/tex/latex/base/ts1cmr.fd)\n",
      "(/usr/share/texmf/tex/latex/lm/t1lmr.fd)\n",
      "(/usr/share/texlive/texmf-dist/tex/latex/hyperref/nameref.sty\n",
      "(/usr/share/texlive/texmf-dist/tex/generic/oberdiek/gettitlestring.sty))\n",
      "(/usr/share/texlive/texmf-dist/tex/latex/microtype/mt-cmr.cfg)\n",
      "(/usr/share/texlive/texmf-dist/tex/context/base/mkii/supp-pdf.mkii\n",
      "[Loading MPS to PDF converter (version 2006.09.02).]\n",
      ") (/usr/share/texlive/texmf-dist/tex/latex/oberdiek/epstopdf-base.sty\n",
      "(/usr/share/texlive/texmf-dist/tex/latex/oberdiek/grfext.sty)\n",
      "(/usr/share/texlive/texmf-dist/tex/latex/latexconfig/epstopdf-sys.cfg))\n",
      "(/usr/share/texmf/tex/latex/lm/ot1lmr.fd)\n",
      "(/usr/share/texmf/tex/latex/lm/omllmm.fd)\n",
      "(/usr/share/texmf/tex/latex/lm/omslmsy.fd)\n",
      "(/usr/share/texmf/tex/latex/lm/omxlmex.fd)\n",
      "\n",
      "! LaTeX Error: File `../tables/table2.tex' not found.\n",
      "\n",
      "Type X to quit or <RETURN> to proceed,\n",
      "or enter new name. (Default extension: tex)\n",
      "\n",
      "Enter file name: \n",
      "! Emergency stop.\n",
      "<read *> \n",
      "         \n",
      "l.24 \\input{../tables/table2.tex}\n",
      "                                 %^^M\n",
      "!  ==> Fatal error occurred, no output PDF file produced!\n",
      "Transcript written on Test3.log.\n",
      "\n"
     ]
    },
    {
     "ename": "CalledProcessError",
     "evalue": "Command '['pdflatex', '--interaction=nonstopmode', 'Test3.tex']' returned non-zero exit status 1.",
     "output_type": "error",
     "traceback": [
      "\u001b[0;31m---------------------------------------------------------------------------\u001b[0m",
      "\u001b[0;31mCalledProcessError\u001b[0m                        Traceback (most recent call last)",
      "\u001b[0;32m<ipython-input-278-4b4349e479a9>\u001b[0m in \u001b[0;36m<module>\u001b[0;34m\u001b[0m\n\u001b[0;32m----> 1\u001b[0;31m \u001b[0mdoc3\u001b[0m\u001b[0;34m.\u001b[0m\u001b[0mmakeReport\u001b[0m\u001b[0;34m(\u001b[0m\u001b[0;34m)\u001b[0m\u001b[0;34m\u001b[0m\u001b[0;34m\u001b[0m\u001b[0m\n\u001b[0m",
      "\u001b[0;32m<ipython-input-270-b3b41685503c>\u001b[0m in \u001b[0;36mmakeReport\u001b[0;34m(self, reportName)\u001b[0m\n\u001b[1;32m    250\u001b[0m \u001b[0;31m#         self.doc.generate_tex(os.path.join(self.outputPath, self.name))\u001b[0m\u001b[0;34m\u001b[0m\u001b[0;34m\u001b[0m\u001b[0;34m\u001b[0m\u001b[0m\n\u001b[1;32m    251\u001b[0m         self.doc.generate_pdf(os.path.join(self.outputPath, self.name), \n\u001b[0;32m--> 252\u001b[0;31m                               clean_tex=False)\n\u001b[0m\u001b[1;32m    253\u001b[0m \u001b[0;34m\u001b[0m\u001b[0m\n\u001b[1;32m    254\u001b[0m         \u001b[0;32mreturn\u001b[0m\u001b[0;34m\u001b[0m\u001b[0;34m\u001b[0m\u001b[0m\n",
      "\u001b[0;32m~/.local/lib/python3.6/site-packages/pylatex/document.py\u001b[0m in \u001b[0;36mgenerate_pdf\u001b[0;34m(self, filepath, clean, clean_tex, compiler, compiler_args, silent)\u001b[0m\n\u001b[1;32m    231\u001b[0m             \u001b[0;32mtry\u001b[0m\u001b[0;34m:\u001b[0m\u001b[0;34m\u001b[0m\u001b[0;34m\u001b[0m\u001b[0m\n\u001b[1;32m    232\u001b[0m                 output = subprocess.check_output(command,\n\u001b[0;32m--> 233\u001b[0;31m                                                  stderr=subprocess.STDOUT)\n\u001b[0m\u001b[1;32m    234\u001b[0m             \u001b[0;32mexcept\u001b[0m \u001b[0;34m(\u001b[0m\u001b[0mOSError\u001b[0m\u001b[0;34m,\u001b[0m \u001b[0mIOError\u001b[0m\u001b[0;34m)\u001b[0m \u001b[0;32mas\u001b[0m \u001b[0me\u001b[0m\u001b[0;34m:\u001b[0m\u001b[0;34m\u001b[0m\u001b[0;34m\u001b[0m\u001b[0m\n\u001b[1;32m    235\u001b[0m                 \u001b[0;31m# Use FileNotFoundError when python 2 is dropped\u001b[0m\u001b[0;34m\u001b[0m\u001b[0;34m\u001b[0m\u001b[0;34m\u001b[0m\u001b[0m\n",
      "\u001b[0;32m/usr/lib/python3.6/subprocess.py\u001b[0m in \u001b[0;36mcheck_output\u001b[0;34m(timeout, *popenargs, **kwargs)\u001b[0m\n\u001b[1;32m    354\u001b[0m \u001b[0;34m\u001b[0m\u001b[0m\n\u001b[1;32m    355\u001b[0m     return run(*popenargs, stdout=PIPE, timeout=timeout, check=True,\n\u001b[0;32m--> 356\u001b[0;31m                **kwargs).stdout\n\u001b[0m\u001b[1;32m    357\u001b[0m \u001b[0;34m\u001b[0m\u001b[0m\n\u001b[1;32m    358\u001b[0m \u001b[0;34m\u001b[0m\u001b[0m\n",
      "\u001b[0;32m/usr/lib/python3.6/subprocess.py\u001b[0m in \u001b[0;36mrun\u001b[0;34m(input, timeout, check, *popenargs, **kwargs)\u001b[0m\n\u001b[1;32m    436\u001b[0m         \u001b[0;32mif\u001b[0m \u001b[0mcheck\u001b[0m \u001b[0;32mand\u001b[0m \u001b[0mretcode\u001b[0m\u001b[0;34m:\u001b[0m\u001b[0;34m\u001b[0m\u001b[0;34m\u001b[0m\u001b[0m\n\u001b[1;32m    437\u001b[0m             raise CalledProcessError(retcode, process.args,\n\u001b[0;32m--> 438\u001b[0;31m                                      output=stdout, stderr=stderr)\n\u001b[0m\u001b[1;32m    439\u001b[0m     \u001b[0;32mreturn\u001b[0m \u001b[0mCompletedProcess\u001b[0m\u001b[0;34m(\u001b[0m\u001b[0mprocess\u001b[0m\u001b[0;34m.\u001b[0m\u001b[0margs\u001b[0m\u001b[0;34m,\u001b[0m \u001b[0mretcode\u001b[0m\u001b[0;34m,\u001b[0m \u001b[0mstdout\u001b[0m\u001b[0;34m,\u001b[0m \u001b[0mstderr\u001b[0m\u001b[0;34m)\u001b[0m\u001b[0;34m\u001b[0m\u001b[0;34m\u001b[0m\u001b[0m\n\u001b[1;32m    440\u001b[0m \u001b[0;34m\u001b[0m\u001b[0m\n",
      "\u001b[0;31mCalledProcessError\u001b[0m: Command '['pdflatex', '--interaction=nonstopmode', 'Test3.tex']' returned non-zero exit status 1."
     ]
    }
   ],
   "source": [
    "doc3.makeReport()"
   ]
  },
  {
   "cell_type": "code",
   "execution_count": null,
   "metadata": {},
   "outputs": [],
   "source": []
  },
  {
   "cell_type": "code",
   "execution_count": null,
   "metadata": {},
   "outputs": [],
   "source": []
  },
  {
   "cell_type": "markdown",
   "metadata": {},
   "source": [
    "## Reference: Classes Example \n",
    "From Sankha"
   ]
  },
  {
   "cell_type": "code",
   "execution_count": 168,
   "metadata": {},
   "outputs": [],
   "source": [
    "# This will sit inside the lib folder. \n",
    "class Report():\n",
    "    \n",
    "    def __init__(self, name, fpath):\n",
    "        self.name = name\n",
    "        self.fpath = fpath\n",
    "        self.title = ''\n",
    "        self.sections = []\n",
    "        self.tables = []\n",
    "        self.images = []\n",
    "        return\n",
    "    \n",
    "    def initialize(self, dirPath='../report/test'):\n",
    "        \"\"\"Create an environment for this report\n",
    "        \"\"\"\n",
    "        if not os.path.exists(dirPath):\n",
    "            os.makedirs(dirPath)\n",
    "            print('Created directory at', dirPath)\n",
    "    \n",
    "    def addSection(self, sectionTitle, sectionText):\n",
    "        self.sections.append(\n",
    "            {\n",
    "                \"sectionTitle\": sectionTitle,\n",
    "                \"sectionText\": sectionText,\n",
    "            })\n",
    "        return\n",
    "    \n",
    "    def addTable(self, df, tableNo, tableTitle):\n",
    "        self.initialize('../report/tables')\n",
    "        self.tables.append(\n",
    "        {\n",
    "                \"tableTitle\": tableTitle, \n",
    "                \"tableNo\"   : tableNo,\n",
    "                \"tableData\" : df\n",
    "        })\n",
    "        return\n",
    "    \n",
    "    def addFigure(self, path, figNo, figTitle):\n",
    "        self.initialize('../report/figures')\n",
    "        \n",
    "        return\n",
    "    \n",
    "    def showReport(self):\n",
    "        \n",
    "        report = f'''\n",
    "        {self.title}'''\n",
    "        \n",
    "        for i, section in enumerate(self.sections):\n",
    "            temp = f'\\n{i+1}. {section[\"sectionTitle\"]}\\n {section[\"sectionText\"]}\\n\\n'\n",
    "            report += temp\n",
    "            \n",
    "        print(report)\n",
    "        \n",
    "        return\n",
    "    \n",
    "    "
   ]
  },
  {
   "cell_type": "code",
   "execution_count": 169,
   "metadata": {},
   "outputs": [
    {
     "name": "stdout",
     "output_type": "stream",
     "text": [
      "Created directory at ../report/test\n",
      "Created directory at ../report/tables\n",
      "\n",
      "        Cool Report Title\n",
      "1. Introduction\n",
      " This is some informamtion about the introduciton\n",
      "\n",
      "\n",
      "2. Conclusion\n",
      " This is it\n",
      "\n",
      "\n"
     ]
    }
   ],
   "source": [
    "rep1 = Report('report1', '../report')\n",
    "rep1.initialize()\n",
    "rep1.title = 'Cool Report Title'\n",
    "rep1.addSection('Introduction', 'This is some informamtion about the introduciton')\n",
    "rep1.addTable(\"somedata\",1, \"Table 1\")\n",
    "rep1.addSection('Conclusion', 'This is it')\n",
    "rep1.showReport()"
   ]
  },
  {
   "cell_type": "code",
   "execution_count": null,
   "metadata": {},
   "outputs": [],
   "source": []
  }
 ],
 "metadata": {
  "kernelspec": {
   "display_name": "Python 3",
   "language": "python",
   "name": "python3"
  },
  "language_info": {
   "codemirror_mode": {
    "name": "ipython",
    "version": 3
   },
   "file_extension": ".py",
   "mimetype": "text/x-python",
   "name": "python",
   "nbconvert_exporter": "python",
   "pygments_lexer": "ipython3",
   "version": "3.6.8"
  }
 },
 "nbformat": 4,
 "nbformat_minor": 2
}
